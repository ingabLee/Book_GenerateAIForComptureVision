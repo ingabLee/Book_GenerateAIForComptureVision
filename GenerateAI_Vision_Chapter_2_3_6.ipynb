{
  "nbformat": 4,
  "nbformat_minor": 0,
  "metadata": {
    "colab": {
      "provenance": [],
      "gpuType": "T4",
      "authorship_tag": "ABX9TyMO2mTYLHr2NMeqSpc05pYk",
      "include_colab_link": true
    },
    "kernelspec": {
      "name": "python3",
      "display_name": "Python 3"
    },
    "language_info": {
      "name": "python"
    },
    "accelerator": "GPU"
  },
  "cells": [
    {
      "cell_type": "markdown",
      "metadata": {
        "id": "view-in-github",
        "colab_type": "text"
      },
      "source": [
        "<a href=\"https://colab.research.google.com/github/ingabLee/Book_GenerateAIForComptureVision/blob/main/GenerateAI_Vision_Chapter_2_3_6.ipynb\" target=\"_parent\"><img src=\"https://colab.research.google.com/assets/colab-badge.svg\" alt=\"Open In Colab\"/></a>"
      ]
    },
    {
      "cell_type": "code",
      "execution_count": 1,
      "metadata": {
        "colab": {
          "base_uri": "https://localhost:8080/"
        },
        "id": "CM35CzmbdP2d",
        "outputId": "b1546dab-1979-4333-a078-1e0caeef602b"
      },
      "outputs": [
        {
          "output_type": "stream",
          "name": "stdout",
          "text": [
            "Requirement already satisfied: torch in /usr/local/lib/python3.12/dist-packages (2.8.0+cu126)\n",
            "Requirement already satisfied: filelock in /usr/local/lib/python3.12/dist-packages (from torch) (3.19.1)\n",
            "Requirement already satisfied: typing-extensions>=4.10.0 in /usr/local/lib/python3.12/dist-packages (from torch) (4.15.0)\n",
            "Requirement already satisfied: setuptools in /usr/local/lib/python3.12/dist-packages (from torch) (75.2.0)\n",
            "Requirement already satisfied: sympy>=1.13.3 in /usr/local/lib/python3.12/dist-packages (from torch) (1.13.3)\n",
            "Requirement already satisfied: networkx in /usr/local/lib/python3.12/dist-packages (from torch) (3.5)\n",
            "Requirement already satisfied: jinja2 in /usr/local/lib/python3.12/dist-packages (from torch) (3.1.6)\n",
            "Requirement already satisfied: fsspec in /usr/local/lib/python3.12/dist-packages (from torch) (2025.3.0)\n",
            "Requirement already satisfied: nvidia-cuda-nvrtc-cu12==12.6.77 in /usr/local/lib/python3.12/dist-packages (from torch) (12.6.77)\n",
            "Requirement already satisfied: nvidia-cuda-runtime-cu12==12.6.77 in /usr/local/lib/python3.12/dist-packages (from torch) (12.6.77)\n",
            "Requirement already satisfied: nvidia-cuda-cupti-cu12==12.6.80 in /usr/local/lib/python3.12/dist-packages (from torch) (12.6.80)\n",
            "Requirement already satisfied: nvidia-cudnn-cu12==9.10.2.21 in /usr/local/lib/python3.12/dist-packages (from torch) (9.10.2.21)\n",
            "Requirement already satisfied: nvidia-cublas-cu12==12.6.4.1 in /usr/local/lib/python3.12/dist-packages (from torch) (12.6.4.1)\n",
            "Requirement already satisfied: nvidia-cufft-cu12==11.3.0.4 in /usr/local/lib/python3.12/dist-packages (from torch) (11.3.0.4)\n",
            "Requirement already satisfied: nvidia-curand-cu12==10.3.7.77 in /usr/local/lib/python3.12/dist-packages (from torch) (10.3.7.77)\n",
            "Requirement already satisfied: nvidia-cusolver-cu12==11.7.1.2 in /usr/local/lib/python3.12/dist-packages (from torch) (11.7.1.2)\n",
            "Requirement already satisfied: nvidia-cusparse-cu12==12.5.4.2 in /usr/local/lib/python3.12/dist-packages (from torch) (12.5.4.2)\n",
            "Requirement already satisfied: nvidia-cusparselt-cu12==0.7.1 in /usr/local/lib/python3.12/dist-packages (from torch) (0.7.1)\n",
            "Requirement already satisfied: nvidia-nccl-cu12==2.27.3 in /usr/local/lib/python3.12/dist-packages (from torch) (2.27.3)\n",
            "Requirement already satisfied: nvidia-nvtx-cu12==12.6.77 in /usr/local/lib/python3.12/dist-packages (from torch) (12.6.77)\n",
            "Requirement already satisfied: nvidia-nvjitlink-cu12==12.6.85 in /usr/local/lib/python3.12/dist-packages (from torch) (12.6.85)\n",
            "Requirement already satisfied: nvidia-cufile-cu12==1.11.1.6 in /usr/local/lib/python3.12/dist-packages (from torch) (1.11.1.6)\n",
            "Requirement already satisfied: triton==3.4.0 in /usr/local/lib/python3.12/dist-packages (from torch) (3.4.0)\n",
            "Requirement already satisfied: mpmath<1.4,>=1.1.0 in /usr/local/lib/python3.12/dist-packages (from sympy>=1.13.3->torch) (1.3.0)\n",
            "Requirement already satisfied: MarkupSafe>=2.0 in /usr/local/lib/python3.12/dist-packages (from jinja2->torch) (3.0.2)\n",
            "Collecting pytorch-model-summary\n",
            "  Downloading pytorch_model_summary-0.1.2-py3-none-any.whl.metadata (35 kB)\n",
            "Requirement already satisfied: tqdm in /usr/local/lib/python3.12/dist-packages (from pytorch-model-summary) (4.67.1)\n",
            "Requirement already satisfied: torch in /usr/local/lib/python3.12/dist-packages (from pytorch-model-summary) (2.8.0+cu126)\n",
            "Requirement already satisfied: numpy in /usr/local/lib/python3.12/dist-packages (from pytorch-model-summary) (2.0.2)\n",
            "Requirement already satisfied: filelock in /usr/local/lib/python3.12/dist-packages (from torch->pytorch-model-summary) (3.19.1)\n",
            "Requirement already satisfied: typing-extensions>=4.10.0 in /usr/local/lib/python3.12/dist-packages (from torch->pytorch-model-summary) (4.15.0)\n",
            "Requirement already satisfied: setuptools in /usr/local/lib/python3.12/dist-packages (from torch->pytorch-model-summary) (75.2.0)\n",
            "Requirement already satisfied: sympy>=1.13.3 in /usr/local/lib/python3.12/dist-packages (from torch->pytorch-model-summary) (1.13.3)\n",
            "Requirement already satisfied: networkx in /usr/local/lib/python3.12/dist-packages (from torch->pytorch-model-summary) (3.5)\n",
            "Requirement already satisfied: jinja2 in /usr/local/lib/python3.12/dist-packages (from torch->pytorch-model-summary) (3.1.6)\n",
            "Requirement already satisfied: fsspec in /usr/local/lib/python3.12/dist-packages (from torch->pytorch-model-summary) (2025.3.0)\n",
            "Requirement already satisfied: nvidia-cuda-nvrtc-cu12==12.6.77 in /usr/local/lib/python3.12/dist-packages (from torch->pytorch-model-summary) (12.6.77)\n",
            "Requirement already satisfied: nvidia-cuda-runtime-cu12==12.6.77 in /usr/local/lib/python3.12/dist-packages (from torch->pytorch-model-summary) (12.6.77)\n",
            "Requirement already satisfied: nvidia-cuda-cupti-cu12==12.6.80 in /usr/local/lib/python3.12/dist-packages (from torch->pytorch-model-summary) (12.6.80)\n",
            "Requirement already satisfied: nvidia-cudnn-cu12==9.10.2.21 in /usr/local/lib/python3.12/dist-packages (from torch->pytorch-model-summary) (9.10.2.21)\n",
            "Requirement already satisfied: nvidia-cublas-cu12==12.6.4.1 in /usr/local/lib/python3.12/dist-packages (from torch->pytorch-model-summary) (12.6.4.1)\n",
            "Requirement already satisfied: nvidia-cufft-cu12==11.3.0.4 in /usr/local/lib/python3.12/dist-packages (from torch->pytorch-model-summary) (11.3.0.4)\n",
            "Requirement already satisfied: nvidia-curand-cu12==10.3.7.77 in /usr/local/lib/python3.12/dist-packages (from torch->pytorch-model-summary) (10.3.7.77)\n",
            "Requirement already satisfied: nvidia-cusolver-cu12==11.7.1.2 in /usr/local/lib/python3.12/dist-packages (from torch->pytorch-model-summary) (11.7.1.2)\n",
            "Requirement already satisfied: nvidia-cusparse-cu12==12.5.4.2 in /usr/local/lib/python3.12/dist-packages (from torch->pytorch-model-summary) (12.5.4.2)\n",
            "Requirement already satisfied: nvidia-cusparselt-cu12==0.7.1 in /usr/local/lib/python3.12/dist-packages (from torch->pytorch-model-summary) (0.7.1)\n",
            "Requirement already satisfied: nvidia-nccl-cu12==2.27.3 in /usr/local/lib/python3.12/dist-packages (from torch->pytorch-model-summary) (2.27.3)\n",
            "Requirement already satisfied: nvidia-nvtx-cu12==12.6.77 in /usr/local/lib/python3.12/dist-packages (from torch->pytorch-model-summary) (12.6.77)\n",
            "Requirement already satisfied: nvidia-nvjitlink-cu12==12.6.85 in /usr/local/lib/python3.12/dist-packages (from torch->pytorch-model-summary) (12.6.85)\n",
            "Requirement already satisfied: nvidia-cufile-cu12==1.11.1.6 in /usr/local/lib/python3.12/dist-packages (from torch->pytorch-model-summary) (1.11.1.6)\n",
            "Requirement already satisfied: triton==3.4.0 in /usr/local/lib/python3.12/dist-packages (from torch->pytorch-model-summary) (3.4.0)\n",
            "Requirement already satisfied: mpmath<1.4,>=1.1.0 in /usr/local/lib/python3.12/dist-packages (from sympy>=1.13.3->torch->pytorch-model-summary) (1.3.0)\n",
            "Requirement already satisfied: MarkupSafe>=2.0 in /usr/local/lib/python3.12/dist-packages (from jinja2->torch->pytorch-model-summary) (3.0.2)\n",
            "Downloading pytorch_model_summary-0.1.2-py3-none-any.whl (9.3 kB)\n",
            "Installing collected packages: pytorch-model-summary\n",
            "Successfully installed pytorch-model-summary-0.1.2\n"
          ]
        }
      ],
      "source": [
        "!pip install torch\n",
        "!pip install pytorch-model-summary"
      ]
    },
    {
      "cell_type": "code",
      "source": [
        "import os\n",
        "import torch\n",
        "from torch import nn\n",
        "from torch.autograd import Variable\n",
        "from torch.utils.data import DataLoader\n",
        "from torchvision import transforms\n",
        "from torchvision.datasets import MNIST\n",
        "from torchvision.utils import save_image\n",
        "import pytorch_model_summary\n",
        "\n",
        "from google.colab import drive\n",
        "\n",
        "drive.mount('/content/drive')\n",
        "\n",
        "dirWork = '/content/drive/MyDrive/VisionForGenerateAI/Chapter2'\n",
        "dirGANResult = dirWork + '/GANResult'\n",
        "\n",
        "os.makedirs(dirGANResult, exist_ok=True)"
      ],
      "metadata": {
        "colab": {
          "base_uri": "https://localhost:8080/"
        },
        "id": "Qba9w-PAddCv",
        "outputId": "299da8aa-0771-4256-9a5c-ac12854e0e4b"
      },
      "execution_count": 2,
      "outputs": [
        {
          "output_type": "stream",
          "name": "stdout",
          "text": [
            "Mounted at /content/drive\n"
          ]
        }
      ]
    },
    {
      "cell_type": "code",
      "source": [
        "import os\n",
        "import numpy as np\n",
        "import math\n",
        "import torchvision.transforms as transforms\n",
        "from torchvision.utils import save_image\n",
        "from torch.utils.data import DataLoader\n",
        "from torchvision import datasets\n",
        "from torch.autograd import Variable\n",
        "import torch.nn as nn\n",
        "import torch.nn.functional as F\n",
        "import torch"
      ],
      "metadata": {
        "id": "PwtjFf5afCQ2"
      },
      "execution_count": 3,
      "outputs": []
    },
    {
      "cell_type": "code",
      "source": [
        "# 에포크와 배치 사이즈 설정\n",
        "epochs, batch_size = 100, 64\n",
        "\n",
        "# 학습에 필요한 파라미터을 설정. Adam옵티마이저 hyper parameter B1,B2를 각 0.5,0.999로 설정\n",
        "lr, b1, b2 = 2e-4, 0.5, 0.999\n",
        "\n",
        "#GAN에 입력될 노이즈 차원크기 설정\n",
        "latent_dim = 100\n",
        "\n",
        "img_size = 28\n",
        "channels = 1\n",
        "#GAN이 생성할 이미지 차원크기를 미리 지정\n",
        "img_shape = (channels, img_size, img_size)\n",
        "\n",
        "if torch.cuda.is_available():\n",
        "  print(\"Train on GPU \\n CUA is aviable\")\n",
        "  cuda = True\n",
        "else :\n",
        "  print(\"Train on CPU \\n CUA is not aviable\")\n",
        "  cuda = False"
      ],
      "metadata": {
        "colab": {
          "base_uri": "https://localhost:8080/"
        },
        "id": "3bRaMm5qgTtt",
        "outputId": "389058cb-0ab4-4668-cc1c-60923a243e16"
      },
      "execution_count": 4,
      "outputs": [
        {
          "output_type": "stream",
          "name": "stdout",
          "text": [
            "Train on GPU \n",
            " CUA is aviable\n"
          ]
        }
      ]
    },
    {
      "cell_type": "code",
      "source": [
        "# MNIST dataset저장할 경로 설정\n",
        "dirMNIST = dirWork + \"/data/mnist\"\n",
        "os.makedirs(dirMNIST, exist_ok=True)\n",
        "\n",
        "# MNIST dataset로드하고 크기조절, 텐서화, 정규화등 전처리를 수행하며,\n",
        "# 배치사이즈, 셔플여부을 설정하여 GAN학습을 위한 로더를 구성\n",
        "dataloader = torch.utils.data.DataLoader(\n",
        "    datasets.MNIST(\n",
        "        dirMNIST, train=True, download=True,\n",
        "        transform=transforms.Compose([\n",
        "            transforms.Resize(img_size),\n",
        "            transforms.ToTensor(),\n",
        "            transforms.Normalize([0.5],[0.5])]),\n",
        "    ),\n",
        "    batch_size=batch_size,\n",
        "    shuffle=True\n",
        ")"
      ],
      "metadata": {
        "id": "WU2L-psbhQuY",
        "colab": {
          "base_uri": "https://localhost:8080/"
        },
        "outputId": "184eee84-5921-42b4-e43f-54f6bc05260d"
      },
      "execution_count": 7,
      "outputs": [
        {
          "output_type": "stream",
          "name": "stderr",
          "text": [
            "100%|██████████| 9.91M/9.91M [00:00<00:00, 18.7MB/s]\n",
            "100%|██████████| 28.9k/28.9k [00:00<00:00, 527kB/s]\n",
            "100%|██████████| 1.65M/1.65M [00:00<00:00, 4.71MB/s]\n",
            "100%|██████████| 4.54k/4.54k [00:00<00:00, 10.9MB/s]\n"
          ]
        }
      ]
    },
    {
      "cell_type": "code",
      "source": [
        "# 생성자 클래스를 정의\n",
        "class Generator(nn.Module):\n",
        "  def __init__(self):\n",
        "    super(Generator, self).__init__()\n",
        "\n",
        "    # 생성자를 구성하는 블록을 선형 레이어와 leakyReLU 활성화 함수 레이어를 통해 구성한다.\n",
        "    def block(in_feat, out_feat, normalize=True):\n",
        "      layers = [nn.Linear(in_feat, out_feat)]\n",
        "      if normalize:\n",
        "        layers.append(nn.BatchNorm1d(out_feat, 0.8))\n",
        "      layers.append(nn.LeakyReLU(0.2, inplace=True))\n",
        "      return layers\n",
        "\n",
        "    # 선언된 블록과 추가 선형레이어, 그리고 Tanh활성화 함수로 생성자를 구성한다.\n",
        "    self.model = nn.Sequential(\n",
        "        *block(latent_dim, 128,normalize=False),\n",
        "        *block(128, 256),\n",
        "        *block(256, 512),\n",
        "        *block(512, 1024),\n",
        "        nn.Linear(1024, int(np.prod(img_shape))),\n",
        "        nn.Tanh()\n",
        "    )\n",
        "\n",
        "  def forward(self, z):\n",
        "      # 모델 동작단계에서 입력 노이즈에 대한 생성자 출력을 지정한다.\n",
        "      img = self.model(z)\n",
        "      # 출력된 결과의 사이즈를 먼저 선언해둔 이미지 형태로 조절한다.\n",
        "      img = img.view(img.shape[0], *img_shape)\n",
        "      return img"
      ],
      "metadata": {
        "id": "Y_0XvED93euf"
      },
      "execution_count": 19,
      "outputs": []
    },
    {
      "cell_type": "code",
      "source": [
        "# 판별자 클래스를 선언한다.\n",
        "class Discriminator(nn.Module):\n",
        "  def __init__(self):\n",
        "    super(Discriminator, self).__init__()\n",
        "\n",
        "    # 선형 레이어와 leakyReLU활성화 함수 레이어, 그리고 [0,1] 범위이 판별값 출력을\n",
        "    # 위한 sigmoid활성화 함수 레이어로 판별자를 구성한다.\n",
        "    self.model = nn.Sequential(\n",
        "        nn.Linear(int(np.prod(img_shape)), 512),\n",
        "        nn.LeakyReLU(0.2, inplace=True),\n",
        "        nn.Linear(512, 256),\n",
        "        nn.LeakyReLU(0.2, inplace=True),\n",
        "        nn.Linear(256, 1),\n",
        "        nn.Sigmoid(),\n",
        "    )\n",
        "\n",
        "  def forward(self, img):\n",
        "    # 입력 이미지를 1차원으로 평탄화 한다.\n",
        "    flat_img = img.view(img.size(0), -1)\n",
        "    # 판별자가 입력에 대한 판별값을 출력한다. 판별값은 [0, 1] 범위를 갖는다.\n",
        "    pred = self.model(flat_img)\n",
        "    return pred"
      ],
      "metadata": {
        "id": "i3D4PAT95NqM"
      },
      "execution_count": 20,
      "outputs": []
    },
    {
      "cell_type": "code",
      "source": [
        "# 생성자와 판별자, 학습에 사용할 이진 교차 엔트로피 함수를 선언.\n",
        "G=Generator()\n",
        "D=Discriminator()\n",
        "adversarial_loss = torch.nn.BCELoss()\n",
        "\n",
        "# GPU가 활용가능할 경우 각 모델과 손실함수를 GPU에 로드한다.\n",
        "if cuda:\n",
        "  G.cuda()\n",
        "  D.cuda()\n",
        "  adversarial_loss.cuda()"
      ],
      "metadata": {
        "id": "-3SOIU3t6T-F"
      },
      "execution_count": 21,
      "outputs": []
    },
    {
      "cell_type": "code",
      "source": [
        "# 모델의 최적화를 수행할 adam 옵티마이저를 정의한다.\n",
        "optimizer_G = torch.optim.Adam(G.parameters(), lr=lr, betas=(b1, b2))\n",
        "optimizer_D = torch.optim.Adam(D.parameters(), lr=lr, betas=(b1, b2))\n",
        "Tensor = torch.cuda.FloatTensor if cuda else torch.FloatTensor\n",
        "# 생성 결과 이미지를 저장할 경로에 폴더를 생성\n",
        "os.makedirs(dirGANResult, exist_ok=True)\n",
        "\n",
        "# 에포크만큼 학습. epoch는 모델 및 데이터에 따라 조절할 수 있다.\n",
        "for epoch in range(epochs):\n",
        "\n",
        "  for i, (imgs, _) in enumerate(dataloader):\n",
        "    # 진자 이미지 라벨값 1, 그리고 가짜 이미지 라벨값 0을 텐서형태로 각각\n",
        "    # 배치사이즈 만큼 생성한다.\n",
        "    real = Variable(Tensor(imgs.size(0), 1).fill_(1.0),\n",
        "                    requires_grad=False)\n",
        "    fake = Variable(Tensor(imgs.size(0),1).fill_(0.0),\n",
        "                    requires_grad=False)\n",
        "    real_imgs = Variable(imgs.type(Tensor))\n",
        "\n",
        "    ## train Generator ##\n",
        "    # 생성자 학습을 진행한다.랜덤 노이즈로부터 생성자가 만든 이미지를 판별한 값과\n",
        "    # 1 사이의 이진교차 엔트로피 손실을 계산한다. 그리고 그래디언트를 전달하여\n",
        "    #생성자를 업데이트 한다.\n",
        "    optimizer_G.zero_grad()\n",
        "    z = Variable(Tensor(np.random.normal(0, 1,\n",
        "                                         (imgs.shape[0], latent_dim))))\n",
        "    gen_imgs = G(z)\n",
        "    g_loss = adversarial_loss(D(gen_imgs), real)\n",
        "    g_loss.backward()\n",
        "    optimizer_G.step()\n",
        "\n",
        "    ## train discriminator ##\n",
        "    # 판별자 학습을 진행한다. 각각 생성자가 만든 가짜 이미지이 판별값은 0,\n",
        "    # 진짜 이미지 판별값은 1과 이진교차 엔트로피 손실을 계산하고\n",
        "    # 그래디언트를 전달하여 판별자를 업데이트 한다.\n",
        "    optimizer_D.zero_grad()\n",
        "    real_loss = adversarial_loss(D(real_imgs), real)\n",
        "    fake_loss = adversarial_loss(D(gen_imgs.detach()), fake)\n",
        "    d_loss = (real_loss + fake_loss) / 2\n",
        "    d_loss.backward()\n",
        "    optimizer_D.step()\n",
        "\n",
        "  # 한 에포크가 끝날때마다생성자가 만든 이미지를 저장한다.\n",
        "  print(\"[Epoch%d/%d] [D loss:%f] [G loss:%f]\" %\n",
        "        ((epoch + 1), epochs, d_loss.item(), g_loss.item()))\n",
        "  save_image(gen_imgs.data[:25], dirGANResult+\"epoch_%d.png\" % epoch, nrow=5, normalize=True)\n",
        "\n",
        "# 학습이 종료된 후에 업데이트된 모델을 저장한다.\n",
        "torch.save(G.state_dict(), dirGANResult+\"/Generator.pth\")\n",
        "torch.save(D.state_dict(), dirGANResult+\"/Discriminator.pth\")"
      ],
      "metadata": {
        "id": "sIYjBqGX6lPs",
        "colab": {
          "base_uri": "https://localhost:8080/",
          "height": 1000
        },
        "outputId": "899d2689-2683-45c0-f28f-710b8a242c3a"
      },
      "execution_count": 25,
      "outputs": [
        {
          "output_type": "stream",
          "name": "stdout",
          "text": [
            "[Epoch1/100] [D loss:0.451876] [G loss:0.617509]\n",
            "[Epoch2/100] [D loss:0.218859] [G loss:1.915246]\n",
            "[Epoch3/100] [D loss:0.214227] [G loss:2.092120]\n",
            "[Epoch4/100] [D loss:0.208579] [G loss:2.067677]\n",
            "[Epoch5/100] [D loss:0.400720] [G loss:0.774979]\n",
            "[Epoch6/100] [D loss:0.153706] [G loss:2.385167]\n",
            "[Epoch7/100] [D loss:0.153958] [G loss:2.555676]\n",
            "[Epoch8/100] [D loss:0.282926] [G loss:1.446465]\n",
            "[Epoch9/100] [D loss:0.241898] [G loss:3.448091]\n",
            "[Epoch10/100] [D loss:0.314380] [G loss:3.836847]\n",
            "[Epoch11/100] [D loss:0.292057] [G loss:1.117122]\n",
            "[Epoch12/100] [D loss:0.122918] [G loss:2.948808]\n",
            "[Epoch13/100] [D loss:0.275141] [G loss:5.734448]\n",
            "[Epoch14/100] [D loss:0.098829] [G loss:2.712463]\n",
            "[Epoch15/100] [D loss:0.101055] [G loss:3.085324]\n",
            "[Epoch16/100] [D loss:0.196645] [G loss:1.496794]\n",
            "[Epoch17/100] [D loss:0.117629] [G loss:2.078698]\n",
            "[Epoch18/100] [D loss:0.062403] [G loss:2.635151]\n",
            "[Epoch19/100] [D loss:0.069634] [G loss:3.275043]\n",
            "[Epoch20/100] [D loss:0.160250] [G loss:4.985387]\n",
            "[Epoch21/100] [D loss:0.142746] [G loss:3.647087]\n",
            "[Epoch22/100] [D loss:0.203695] [G loss:1.580506]\n",
            "[Epoch23/100] [D loss:0.189669] [G loss:1.888557]\n",
            "[Epoch24/100] [D loss:0.326705] [G loss:3.932084]\n",
            "[Epoch25/100] [D loss:0.279370] [G loss:3.649200]\n",
            "[Epoch26/100] [D loss:0.330582] [G loss:1.763503]\n",
            "[Epoch27/100] [D loss:0.399757] [G loss:4.211601]\n",
            "[Epoch28/100] [D loss:0.248266] [G loss:2.282091]\n",
            "[Epoch29/100] [D loss:0.114818] [G loss:2.477207]\n",
            "[Epoch30/100] [D loss:0.375233] [G loss:1.702995]\n",
            "[Epoch31/100] [D loss:0.312737] [G loss:3.182154]\n",
            "[Epoch32/100] [D loss:0.556229] [G loss:6.449223]\n",
            "[Epoch33/100] [D loss:0.158291] [G loss:2.180118]\n",
            "[Epoch34/100] [D loss:0.237613] [G loss:1.405023]\n",
            "[Epoch35/100] [D loss:0.223520] [G loss:3.043373]\n",
            "[Epoch36/100] [D loss:0.321417] [G loss:2.551358]\n",
            "[Epoch37/100] [D loss:0.391195] [G loss:3.114947]\n",
            "[Epoch38/100] [D loss:0.246832] [G loss:2.040485]\n",
            "[Epoch39/100] [D loss:0.257673] [G loss:1.636650]\n",
            "[Epoch40/100] [D loss:0.214267] [G loss:1.955914]\n",
            "[Epoch41/100] [D loss:0.244749] [G loss:1.949687]\n",
            "[Epoch42/100] [D loss:0.132398] [G loss:2.323206]\n",
            "[Epoch43/100] [D loss:0.263767] [G loss:1.672772]\n",
            "[Epoch44/100] [D loss:0.263611] [G loss:1.758224]\n",
            "[Epoch45/100] [D loss:0.291830] [G loss:1.909031]\n",
            "[Epoch46/100] [D loss:0.219639] [G loss:2.643966]\n",
            "[Epoch47/100] [D loss:0.259264] [G loss:2.278651]\n",
            "[Epoch48/100] [D loss:0.350546] [G loss:3.167990]\n",
            "[Epoch49/100] [D loss:0.278365] [G loss:1.919111]\n",
            "[Epoch50/100] [D loss:0.265068] [G loss:2.277448]\n",
            "[Epoch51/100] [D loss:0.148033] [G loss:2.002162]\n",
            "[Epoch52/100] [D loss:0.417101] [G loss:2.077094]\n",
            "[Epoch53/100] [D loss:0.426049] [G loss:1.085820]\n",
            "[Epoch54/100] [D loss:0.228859] [G loss:1.764102]\n",
            "[Epoch55/100] [D loss:0.337255] [G loss:1.083109]\n",
            "[Epoch56/100] [D loss:0.157634] [G loss:2.492395]\n",
            "[Epoch57/100] [D loss:0.513158] [G loss:1.118153]\n",
            "[Epoch58/100] [D loss:0.458582] [G loss:0.942025]\n"
          ]
        },
        {
          "output_type": "error",
          "ename": "KeyboardInterrupt",
          "evalue": "",
          "traceback": [
            "\u001b[0;31m---------------------------------------------------------------------------\u001b[0m",
            "\u001b[0;31mKeyboardInterrupt\u001b[0m                         Traceback (most recent call last)",
            "\u001b[0;32m/tmp/ipython-input-1216269227.py\u001b[0m in \u001b[0;36m<cell line: 0>\u001b[0;34m()\u001b[0m\n\u001b[1;32m      5\u001b[0m \u001b[0;34m\u001b[0m\u001b[0m\n\u001b[1;32m      6\u001b[0m \u001b[0;32mfor\u001b[0m \u001b[0mepoch\u001b[0m \u001b[0;32min\u001b[0m \u001b[0mrange\u001b[0m\u001b[0;34m(\u001b[0m\u001b[0mepochs\u001b[0m\u001b[0;34m)\u001b[0m\u001b[0;34m:\u001b[0m\u001b[0;34m\u001b[0m\u001b[0;34m\u001b[0m\u001b[0m\n\u001b[0;32m----> 7\u001b[0;31m   \u001b[0;32mfor\u001b[0m \u001b[0mi\u001b[0m\u001b[0;34m,\u001b[0m \u001b[0;34m(\u001b[0m\u001b[0mimgs\u001b[0m\u001b[0;34m,\u001b[0m \u001b[0m_\u001b[0m\u001b[0;34m)\u001b[0m \u001b[0;32min\u001b[0m \u001b[0menumerate\u001b[0m\u001b[0;34m(\u001b[0m\u001b[0mdataloader\u001b[0m\u001b[0;34m)\u001b[0m\u001b[0;34m:\u001b[0m\u001b[0;34m\u001b[0m\u001b[0;34m\u001b[0m\u001b[0m\n\u001b[0m\u001b[1;32m      8\u001b[0m     real = Variable(Tensor(imgs.size(0), 1).fill_(1.0),\n\u001b[1;32m      9\u001b[0m                     requires_grad=False)\n",
            "\u001b[0;32m/usr/local/lib/python3.12/dist-packages/torch/utils/data/dataloader.py\u001b[0m in \u001b[0;36m__next__\u001b[0;34m(self)\u001b[0m\n\u001b[1;32m    732\u001b[0m                 \u001b[0;31m# TODO(https://github.com/pytorch/pytorch/issues/76750)\u001b[0m\u001b[0;34m\u001b[0m\u001b[0;34m\u001b[0m\u001b[0m\n\u001b[1;32m    733\u001b[0m                 \u001b[0mself\u001b[0m\u001b[0;34m.\u001b[0m\u001b[0m_reset\u001b[0m\u001b[0;34m(\u001b[0m\u001b[0;34m)\u001b[0m  \u001b[0;31m# type: ignore[call-arg]\u001b[0m\u001b[0;34m\u001b[0m\u001b[0;34m\u001b[0m\u001b[0m\n\u001b[0;32m--> 734\u001b[0;31m             \u001b[0mdata\u001b[0m \u001b[0;34m=\u001b[0m \u001b[0mself\u001b[0m\u001b[0;34m.\u001b[0m\u001b[0m_next_data\u001b[0m\u001b[0;34m(\u001b[0m\u001b[0;34m)\u001b[0m\u001b[0;34m\u001b[0m\u001b[0;34m\u001b[0m\u001b[0m\n\u001b[0m\u001b[1;32m    735\u001b[0m             \u001b[0mself\u001b[0m\u001b[0;34m.\u001b[0m\u001b[0m_num_yielded\u001b[0m \u001b[0;34m+=\u001b[0m \u001b[0;36m1\u001b[0m\u001b[0;34m\u001b[0m\u001b[0;34m\u001b[0m\u001b[0m\n\u001b[1;32m    736\u001b[0m             if (\n",
            "\u001b[0;32m/usr/local/lib/python3.12/dist-packages/torch/utils/data/dataloader.py\u001b[0m in \u001b[0;36m_next_data\u001b[0;34m(self)\u001b[0m\n\u001b[1;32m    788\u001b[0m     \u001b[0;32mdef\u001b[0m \u001b[0m_next_data\u001b[0m\u001b[0;34m(\u001b[0m\u001b[0mself\u001b[0m\u001b[0;34m)\u001b[0m\u001b[0;34m:\u001b[0m\u001b[0;34m\u001b[0m\u001b[0;34m\u001b[0m\u001b[0m\n\u001b[1;32m    789\u001b[0m         \u001b[0mindex\u001b[0m \u001b[0;34m=\u001b[0m \u001b[0mself\u001b[0m\u001b[0;34m.\u001b[0m\u001b[0m_next_index\u001b[0m\u001b[0;34m(\u001b[0m\u001b[0;34m)\u001b[0m  \u001b[0;31m# may raise StopIteration\u001b[0m\u001b[0;34m\u001b[0m\u001b[0;34m\u001b[0m\u001b[0m\n\u001b[0;32m--> 790\u001b[0;31m         \u001b[0mdata\u001b[0m \u001b[0;34m=\u001b[0m \u001b[0mself\u001b[0m\u001b[0;34m.\u001b[0m\u001b[0m_dataset_fetcher\u001b[0m\u001b[0;34m.\u001b[0m\u001b[0mfetch\u001b[0m\u001b[0;34m(\u001b[0m\u001b[0mindex\u001b[0m\u001b[0;34m)\u001b[0m  \u001b[0;31m# may raise StopIteration\u001b[0m\u001b[0;34m\u001b[0m\u001b[0;34m\u001b[0m\u001b[0m\n\u001b[0m\u001b[1;32m    791\u001b[0m         \u001b[0;32mif\u001b[0m \u001b[0mself\u001b[0m\u001b[0;34m.\u001b[0m\u001b[0m_pin_memory\u001b[0m\u001b[0;34m:\u001b[0m\u001b[0;34m\u001b[0m\u001b[0;34m\u001b[0m\u001b[0m\n\u001b[1;32m    792\u001b[0m             \u001b[0mdata\u001b[0m \u001b[0;34m=\u001b[0m \u001b[0m_utils\u001b[0m\u001b[0;34m.\u001b[0m\u001b[0mpin_memory\u001b[0m\u001b[0;34m.\u001b[0m\u001b[0mpin_memory\u001b[0m\u001b[0;34m(\u001b[0m\u001b[0mdata\u001b[0m\u001b[0;34m,\u001b[0m \u001b[0mself\u001b[0m\u001b[0;34m.\u001b[0m\u001b[0m_pin_memory_device\u001b[0m\u001b[0;34m)\u001b[0m\u001b[0;34m\u001b[0m\u001b[0;34m\u001b[0m\u001b[0m\n",
            "\u001b[0;32m/usr/local/lib/python3.12/dist-packages/torch/utils/data/_utils/fetch.py\u001b[0m in \u001b[0;36mfetch\u001b[0;34m(self, possibly_batched_index)\u001b[0m\n\u001b[1;32m     50\u001b[0m                 \u001b[0mdata\u001b[0m \u001b[0;34m=\u001b[0m \u001b[0mself\u001b[0m\u001b[0;34m.\u001b[0m\u001b[0mdataset\u001b[0m\u001b[0;34m.\u001b[0m\u001b[0m__getitems__\u001b[0m\u001b[0;34m(\u001b[0m\u001b[0mpossibly_batched_index\u001b[0m\u001b[0;34m)\u001b[0m\u001b[0;34m\u001b[0m\u001b[0;34m\u001b[0m\u001b[0m\n\u001b[1;32m     51\u001b[0m             \u001b[0;32melse\u001b[0m\u001b[0;34m:\u001b[0m\u001b[0;34m\u001b[0m\u001b[0;34m\u001b[0m\u001b[0m\n\u001b[0;32m---> 52\u001b[0;31m                 \u001b[0mdata\u001b[0m \u001b[0;34m=\u001b[0m \u001b[0;34m[\u001b[0m\u001b[0mself\u001b[0m\u001b[0;34m.\u001b[0m\u001b[0mdataset\u001b[0m\u001b[0;34m[\u001b[0m\u001b[0midx\u001b[0m\u001b[0;34m]\u001b[0m \u001b[0;32mfor\u001b[0m \u001b[0midx\u001b[0m \u001b[0;32min\u001b[0m \u001b[0mpossibly_batched_index\u001b[0m\u001b[0;34m]\u001b[0m\u001b[0;34m\u001b[0m\u001b[0;34m\u001b[0m\u001b[0m\n\u001b[0m\u001b[1;32m     53\u001b[0m         \u001b[0;32melse\u001b[0m\u001b[0;34m:\u001b[0m\u001b[0;34m\u001b[0m\u001b[0;34m\u001b[0m\u001b[0m\n\u001b[1;32m     54\u001b[0m             \u001b[0mdata\u001b[0m \u001b[0;34m=\u001b[0m \u001b[0mself\u001b[0m\u001b[0;34m.\u001b[0m\u001b[0mdataset\u001b[0m\u001b[0;34m[\u001b[0m\u001b[0mpossibly_batched_index\u001b[0m\u001b[0;34m]\u001b[0m\u001b[0;34m\u001b[0m\u001b[0;34m\u001b[0m\u001b[0m\n",
            "\u001b[0;32m/usr/local/lib/python3.12/dist-packages/torchvision/datasets/mnist.py\u001b[0m in \u001b[0;36m__getitem__\u001b[0;34m(self, index)\u001b[0m\n\u001b[1;32m    144\u001b[0m \u001b[0;34m\u001b[0m\u001b[0m\n\u001b[1;32m    145\u001b[0m         \u001b[0;32mif\u001b[0m \u001b[0mself\u001b[0m\u001b[0;34m.\u001b[0m\u001b[0mtransform\u001b[0m \u001b[0;32mis\u001b[0m \u001b[0;32mnot\u001b[0m \u001b[0;32mNone\u001b[0m\u001b[0;34m:\u001b[0m\u001b[0;34m\u001b[0m\u001b[0;34m\u001b[0m\u001b[0m\n\u001b[0;32m--> 146\u001b[0;31m             \u001b[0mimg\u001b[0m \u001b[0;34m=\u001b[0m \u001b[0mself\u001b[0m\u001b[0;34m.\u001b[0m\u001b[0mtransform\u001b[0m\u001b[0;34m(\u001b[0m\u001b[0mimg\u001b[0m\u001b[0;34m)\u001b[0m\u001b[0;34m\u001b[0m\u001b[0;34m\u001b[0m\u001b[0m\n\u001b[0m\u001b[1;32m    147\u001b[0m \u001b[0;34m\u001b[0m\u001b[0m\n\u001b[1;32m    148\u001b[0m         \u001b[0;32mif\u001b[0m \u001b[0mself\u001b[0m\u001b[0;34m.\u001b[0m\u001b[0mtarget_transform\u001b[0m \u001b[0;32mis\u001b[0m \u001b[0;32mnot\u001b[0m \u001b[0;32mNone\u001b[0m\u001b[0;34m:\u001b[0m\u001b[0;34m\u001b[0m\u001b[0;34m\u001b[0m\u001b[0m\n",
            "\u001b[0;32m/usr/local/lib/python3.12/dist-packages/torchvision/transforms/transforms.py\u001b[0m in \u001b[0;36m__call__\u001b[0;34m(self, img)\u001b[0m\n\u001b[1;32m     91\u001b[0m         \u001b[0mself\u001b[0m\u001b[0;34m.\u001b[0m\u001b[0mtransforms\u001b[0m \u001b[0;34m=\u001b[0m \u001b[0mtransforms\u001b[0m\u001b[0;34m\u001b[0m\u001b[0;34m\u001b[0m\u001b[0m\n\u001b[1;32m     92\u001b[0m \u001b[0;34m\u001b[0m\u001b[0m\n\u001b[0;32m---> 93\u001b[0;31m     \u001b[0;32mdef\u001b[0m \u001b[0m__call__\u001b[0m\u001b[0;34m(\u001b[0m\u001b[0mself\u001b[0m\u001b[0;34m,\u001b[0m \u001b[0mimg\u001b[0m\u001b[0;34m)\u001b[0m\u001b[0;34m:\u001b[0m\u001b[0;34m\u001b[0m\u001b[0;34m\u001b[0m\u001b[0m\n\u001b[0m\u001b[1;32m     94\u001b[0m         \u001b[0;32mfor\u001b[0m \u001b[0mt\u001b[0m \u001b[0;32min\u001b[0m \u001b[0mself\u001b[0m\u001b[0;34m.\u001b[0m\u001b[0mtransforms\u001b[0m\u001b[0;34m:\u001b[0m\u001b[0;34m\u001b[0m\u001b[0;34m\u001b[0m\u001b[0m\n\u001b[1;32m     95\u001b[0m             \u001b[0mimg\u001b[0m \u001b[0;34m=\u001b[0m \u001b[0mt\u001b[0m\u001b[0;34m(\u001b[0m\u001b[0mimg\u001b[0m\u001b[0;34m)\u001b[0m\u001b[0;34m\u001b[0m\u001b[0;34m\u001b[0m\u001b[0m\n",
            "\u001b[0;31mKeyboardInterrupt\u001b[0m: "
          ]
        }
      ]
    },
    {
      "cell_type": "code",
      "source": [],
      "metadata": {
        "id": "wgKo-wLRPkMQ"
      },
      "execution_count": null,
      "outputs": []
    }
  ]
}