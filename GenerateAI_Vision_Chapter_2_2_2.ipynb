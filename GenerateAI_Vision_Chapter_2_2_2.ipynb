{
  "nbformat": 4,
  "nbformat_minor": 0,
  "metadata": {
    "colab": {
      "provenance": [],
      "authorship_tag": "ABX9TyN/fuydRxe9CWaT/bM1dxS0",
      "include_colab_link": true
    },
    "kernelspec": {
      "name": "python3",
      "display_name": "Python 3"
    },
    "language_info": {
      "name": "python"
    }
  },
  "cells": [
    {
      "cell_type": "markdown",
      "metadata": {
        "id": "view-in-github",
        "colab_type": "text"
      },
      "source": [
        "<a href=\"https://colab.research.google.com/github/ingabLee/Book_GenerateAIForComptureVision/blob/main/GenerateAI_Vision_Chapter_2_2_2.ipynb\" target=\"_parent\"><img src=\"https://colab.research.google.com/assets/colab-badge.svg\" alt=\"Open In Colab\"/></a>"
      ]
    },
    {
      "cell_type": "code",
      "execution_count": null,
      "metadata": {
        "colab": {
          "base_uri": "https://localhost:8080/"
        },
        "id": "yrgAmKVoeTom",
        "outputId": "d279c13c-b63c-46f9-f7e9-63a6c09b3afb"
      },
      "outputs": [
        {
          "output_type": "stream",
          "name": "stdout",
          "text": [
            "Requirement already satisfied: torch in /usr/local/lib/python3.12/dist-packages (2.8.0+cu126)\n",
            "Requirement already satisfied: filelock in /usr/local/lib/python3.12/dist-packages (from torch) (3.19.1)\n",
            "Requirement already satisfied: typing-extensions>=4.10.0 in /usr/local/lib/python3.12/dist-packages (from torch) (4.15.0)\n",
            "Requirement already satisfied: setuptools in /usr/local/lib/python3.12/dist-packages (from torch) (75.2.0)\n",
            "Requirement already satisfied: sympy>=1.13.3 in /usr/local/lib/python3.12/dist-packages (from torch) (1.13.3)\n",
            "Requirement already satisfied: networkx in /usr/local/lib/python3.12/dist-packages (from torch) (3.5)\n",
            "Requirement already satisfied: jinja2 in /usr/local/lib/python3.12/dist-packages (from torch) (3.1.6)\n",
            "Requirement already satisfied: fsspec in /usr/local/lib/python3.12/dist-packages (from torch) (2025.3.0)\n",
            "Requirement already satisfied: nvidia-cuda-nvrtc-cu12==12.6.77 in /usr/local/lib/python3.12/dist-packages (from torch) (12.6.77)\n",
            "Requirement already satisfied: nvidia-cuda-runtime-cu12==12.6.77 in /usr/local/lib/python3.12/dist-packages (from torch) (12.6.77)\n",
            "Requirement already satisfied: nvidia-cuda-cupti-cu12==12.6.80 in /usr/local/lib/python3.12/dist-packages (from torch) (12.6.80)\n",
            "Requirement already satisfied: nvidia-cudnn-cu12==9.10.2.21 in /usr/local/lib/python3.12/dist-packages (from torch) (9.10.2.21)\n",
            "Requirement already satisfied: nvidia-cublas-cu12==12.6.4.1 in /usr/local/lib/python3.12/dist-packages (from torch) (12.6.4.1)\n",
            "Requirement already satisfied: nvidia-cufft-cu12==11.3.0.4 in /usr/local/lib/python3.12/dist-packages (from torch) (11.3.0.4)\n",
            "Requirement already satisfied: nvidia-curand-cu12==10.3.7.77 in /usr/local/lib/python3.12/dist-packages (from torch) (10.3.7.77)\n",
            "Requirement already satisfied: nvidia-cusolver-cu12==11.7.1.2 in /usr/local/lib/python3.12/dist-packages (from torch) (11.7.1.2)\n",
            "Requirement already satisfied: nvidia-cusparse-cu12==12.5.4.2 in /usr/local/lib/python3.12/dist-packages (from torch) (12.5.4.2)\n",
            "Requirement already satisfied: nvidia-cusparselt-cu12==0.7.1 in /usr/local/lib/python3.12/dist-packages (from torch) (0.7.1)\n",
            "Requirement already satisfied: nvidia-nccl-cu12==2.27.3 in /usr/local/lib/python3.12/dist-packages (from torch) (2.27.3)\n",
            "Requirement already satisfied: nvidia-nvtx-cu12==12.6.77 in /usr/local/lib/python3.12/dist-packages (from torch) (12.6.77)\n",
            "Requirement already satisfied: nvidia-nvjitlink-cu12==12.6.85 in /usr/local/lib/python3.12/dist-packages (from torch) (12.6.85)\n",
            "Requirement already satisfied: nvidia-cufile-cu12==1.11.1.6 in /usr/local/lib/python3.12/dist-packages (from torch) (1.11.1.6)\n",
            "Requirement already satisfied: triton==3.4.0 in /usr/local/lib/python3.12/dist-packages (from torch) (3.4.0)\n",
            "Requirement already satisfied: mpmath<1.4,>=1.1.0 in /usr/local/lib/python3.12/dist-packages (from sympy>=1.13.3->torch) (1.3.0)\n",
            "Requirement already satisfied: MarkupSafe>=2.0 in /usr/local/lib/python3.12/dist-packages (from jinja2->torch) (3.0.2)\n",
            "Collecting pytorch-model-summary\n",
            "  Downloading pytorch_model_summary-0.1.2-py3-none-any.whl.metadata (35 kB)\n",
            "Requirement already satisfied: tqdm in /usr/local/lib/python3.12/dist-packages (from pytorch-model-summary) (4.67.1)\n",
            "Requirement already satisfied: torch in /usr/local/lib/python3.12/dist-packages (from pytorch-model-summary) (2.8.0+cu126)\n",
            "Requirement already satisfied: numpy in /usr/local/lib/python3.12/dist-packages (from pytorch-model-summary) (2.0.2)\n",
            "Requirement already satisfied: filelock in /usr/local/lib/python3.12/dist-packages (from torch->pytorch-model-summary) (3.19.1)\n",
            "Requirement already satisfied: typing-extensions>=4.10.0 in /usr/local/lib/python3.12/dist-packages (from torch->pytorch-model-summary) (4.15.0)\n",
            "Requirement already satisfied: setuptools in /usr/local/lib/python3.12/dist-packages (from torch->pytorch-model-summary) (75.2.0)\n",
            "Requirement already satisfied: sympy>=1.13.3 in /usr/local/lib/python3.12/dist-packages (from torch->pytorch-model-summary) (1.13.3)\n",
            "Requirement already satisfied: networkx in /usr/local/lib/python3.12/dist-packages (from torch->pytorch-model-summary) (3.5)\n",
            "Requirement already satisfied: jinja2 in /usr/local/lib/python3.12/dist-packages (from torch->pytorch-model-summary) (3.1.6)\n",
            "Requirement already satisfied: fsspec in /usr/local/lib/python3.12/dist-packages (from torch->pytorch-model-summary) (2025.3.0)\n",
            "Requirement already satisfied: nvidia-cuda-nvrtc-cu12==12.6.77 in /usr/local/lib/python3.12/dist-packages (from torch->pytorch-model-summary) (12.6.77)\n",
            "Requirement already satisfied: nvidia-cuda-runtime-cu12==12.6.77 in /usr/local/lib/python3.12/dist-packages (from torch->pytorch-model-summary) (12.6.77)\n",
            "Requirement already satisfied: nvidia-cuda-cupti-cu12==12.6.80 in /usr/local/lib/python3.12/dist-packages (from torch->pytorch-model-summary) (12.6.80)\n",
            "Requirement already satisfied: nvidia-cudnn-cu12==9.10.2.21 in /usr/local/lib/python3.12/dist-packages (from torch->pytorch-model-summary) (9.10.2.21)\n",
            "Requirement already satisfied: nvidia-cublas-cu12==12.6.4.1 in /usr/local/lib/python3.12/dist-packages (from torch->pytorch-model-summary) (12.6.4.1)\n",
            "Requirement already satisfied: nvidia-cufft-cu12==11.3.0.4 in /usr/local/lib/python3.12/dist-packages (from torch->pytorch-model-summary) (11.3.0.4)\n",
            "Requirement already satisfied: nvidia-curand-cu12==10.3.7.77 in /usr/local/lib/python3.12/dist-packages (from torch->pytorch-model-summary) (10.3.7.77)\n",
            "Requirement already satisfied: nvidia-cusolver-cu12==11.7.1.2 in /usr/local/lib/python3.12/dist-packages (from torch->pytorch-model-summary) (11.7.1.2)\n",
            "Requirement already satisfied: nvidia-cusparse-cu12==12.5.4.2 in /usr/local/lib/python3.12/dist-packages (from torch->pytorch-model-summary) (12.5.4.2)\n",
            "Requirement already satisfied: nvidia-cusparselt-cu12==0.7.1 in /usr/local/lib/python3.12/dist-packages (from torch->pytorch-model-summary) (0.7.1)\n",
            "Requirement already satisfied: nvidia-nccl-cu12==2.27.3 in /usr/local/lib/python3.12/dist-packages (from torch->pytorch-model-summary) (2.27.3)\n",
            "Requirement already satisfied: nvidia-nvtx-cu12==12.6.77 in /usr/local/lib/python3.12/dist-packages (from torch->pytorch-model-summary) (12.6.77)\n",
            "Requirement already satisfied: nvidia-nvjitlink-cu12==12.6.85 in /usr/local/lib/python3.12/dist-packages (from torch->pytorch-model-summary) (12.6.85)\n",
            "Requirement already satisfied: nvidia-cufile-cu12==1.11.1.6 in /usr/local/lib/python3.12/dist-packages (from torch->pytorch-model-summary) (1.11.1.6)\n",
            "Requirement already satisfied: triton==3.4.0 in /usr/local/lib/python3.12/dist-packages (from torch->pytorch-model-summary) (3.4.0)\n",
            "Requirement already satisfied: mpmath<1.4,>=1.1.0 in /usr/local/lib/python3.12/dist-packages (from sympy>=1.13.3->torch->pytorch-model-summary) (1.3.0)\n",
            "Requirement already satisfied: MarkupSafe>=2.0 in /usr/local/lib/python3.12/dist-packages (from jinja2->torch->pytorch-model-summary) (3.0.2)\n",
            "Downloading pytorch_model_summary-0.1.2-py3-none-any.whl (9.3 kB)\n",
            "Installing collected packages: pytorch-model-summary\n",
            "Successfully installed pytorch-model-summary-0.1.2\n"
          ]
        }
      ],
      "source": [
        "!pip install torch\n",
        "!pip install pytorch-model-summary"
      ]
    },
    {
      "cell_type": "code",
      "source": [
        "import os\n",
        "import torch\n",
        "from torch import nn\n",
        "from torch.autograd import Variable\n",
        "from torch.utils.data import DataLoader\n",
        "from torchvision import transforms\n",
        "from torchvision.datasets import MNIST\n",
        "from torchvision.utils import save_image\n",
        "import pytorch_model_summary\n",
        "\n",
        "from google.colab import drive\n",
        "\n",
        "drive.mount('/content/drive')\n",
        "\n",
        "dirWork = '/content/drive/MyDrive/VisionForGenerateAI/Chapter2'\n",
        "dirImage = dirWork + '/VAE_img'\n",
        "\n",
        "os.makedirs(dirImage, exist_ok=True)"
      ],
      "metadata": {
        "colab": {
          "base_uri": "https://localhost:8080/"
        },
        "id": "Ad1LxAwjedhX",
        "outputId": "972edf9c-ced0-4645-e1ff-19e59db1cd09"
      },
      "execution_count": null,
      "outputs": [
        {
          "output_type": "stream",
          "name": "stdout",
          "text": [
            "Mounted at /content/drive\n"
          ]
        }
      ]
    },
    {
      "cell_type": "code",
      "source": [
        "# tensor data normalization. (find min, max value)\n",
        "def normalization(tensor, min_value, max_value):\n",
        "  min_tensor = tensor.min()\n",
        "  tensor = (tensor - min_tensor)\n",
        "  max_tensor = tensor.max()\n",
        "  tensor = tensor / max_tensor\n",
        "  tensor = tensor * (max_value - min_value) + min_value\n",
        "  return tensor\n",
        "\n",
        "# tensor value round\n",
        "def value_round(tensor):\n",
        "  return torch.round(tensor)\n",
        "\n",
        "# 생성한 tensor을 이미지로 출력하기 위한 차원변환을 수행하는 함수.\n",
        "def to_img(x):\n",
        "  x = x.view(x.size(0), 1, 28, 28)\n",
        "  return x\n",
        "\n",
        "# MINST 데이터를 학습에 사용하기위해서 전처리를 수행하는 transform함수를 선언\n",
        "img_transform = transforms.Compose([\n",
        "    transforms.ToTensor(),\n",
        "    transforms.Lambda(lambda tensor:normalization(tensor, 0, 1)),\n",
        "    transforms.Lambda(lambda tensor:value_round(tensor))\n",
        "])\n",
        "\n",
        "batch_size = 128    # 배치 사이즈 128\n",
        "\n",
        "# load MNIST dataset with transform(전처리)\n",
        "dataset = MNIST(dirWork + '/MNIST_dataset', transform=img_transform, download=True)\n",
        "\n",
        "# 배치사이즈에 맞게 dataloader를 설정하여 shuffle옵션을 통해 섞는다.\n",
        "dataloader = DataLoader(dataset, batch_size=batch_size, shuffle=True)"
      ],
      "metadata": {
        "id": "IzJLZ7uhe490"
      },
      "execution_count": null,
      "outputs": []
    },
    {
      "cell_type": "code",
      "source": [
        "# 인코더, 디코더로 구성됀 변이형 오토인터코 선언.\n",
        "class VariationalAutoencoder(nn.Module):\n",
        "  def __init__(self):\n",
        "    super(VariationalAutoencoder, self).__init__()\n",
        "\n",
        "    # 인코더 생성. 두개의 선형 레이어와 한개의 활성화 함수레이어로 구성. 입력크기는\n",
        "    # [N, 28*28]로 설정한다. N은 배치사이즈 이다..\n",
        "    self.encoder = nn.Sequential(\n",
        "        nn.Linear(28 * 28, 400),\n",
        "        nn.ReLU(True),\n",
        "        nn.Linear(400, 40))\n",
        "\n",
        "    # 디코더 생성. 재매개변수화를 거쳐서 샘플링된 잠재벡터를 입력받기 때문에\n",
        "    # 인코더 출력크기와 다른 입력 크기를 가진다. 각각 두개의 선형 레이어와 활성화 함수로 구성\n",
        "    self.decoder = nn.Sequential(\n",
        "        nn.Linear(20, 400),\n",
        "        nn.ReLU(True),\n",
        "        nn.Linear(400, 28*28),\n",
        "        nn.Sigmoid())\n",
        "\n",
        "  # 재매개변수화를 위한 함수정의. 재매개변수 함수내에서는 표준정규분포로부터 샘플링한 값을\n",
        "  # 평균과 분산 입력을 통해 수동으로 변환하여 잠재벡터를 반환한다.\n",
        "  def reparameterization(self, mean, lovar):\n",
        "    var = logvar.exp()\n",
        "    std = var.sqrt()\n",
        "    eps = Variable(torch.cuda.FloatTensor(std.size()).normal_())\n",
        "\n",
        "    return eps.mul(std).add(mean)\n",
        "\n",
        "  # 변이형 오토 인코더의 동작순서를 정의. 인코더가 출력한 벡터의 절반은 평균, 나머지는 분산으로 활용하여\n",
        "  # 재매개변수화를 통해 구성한 잠재벡터를 디코딩하여 이미지를 생성\n",
        "  def forward(self, x):\n",
        "    h = self.encoder(x)\n",
        "    mean = h[ : , :20]\n",
        "    logvar = h[ : , 20 : ]\n",
        "    z = self.reparameterization(mean, logvar)\n",
        "    x_gen = self.decoder(z)\n",
        "    return x_gen, mean, logvar\n",
        "\n",
        "  # 잠재공간내 두 잠재벡터의 선형보간법적용을 통해 생성된 이미지들의 경향성을 확인하기 위한 함수\n",
        "  def interpolation(self, x_1, x_2, alpha):\n",
        "    traverse_1 = self.encoder(x_1)\n",
        "    traverse_2 = self.encoder(x_2)\n",
        "    mean_1, mean_2 = traverse_1[:, :20], traverse_2[:, :20]\n",
        "    logvar_1, logvar_2 = traverse_1[:,:20], traverse_2[:, 20:]\n",
        "    traverse_m = (1-alpha) * mean_1 + alpha * mean_2\n",
        "    traverse_logvar = (1-alpha) * logvar_1 * alpha * logvar_2\n",
        "    z = self.reparameterization(traverse_m, traverse_logvar)\n",
        "    generated_image = self.decoder(z)\n",
        "\n",
        "    return generated_image\n",
        "\n"
      ],
      "metadata": {
        "id": "HxyWqUrYfY6a"
      },
      "execution_count": null,
      "outputs": []
    },
    {
      "cell_type": "code",
      "source": [
        "# 변이형 오토 인코더를 생성하고 GPU에 모델 로드\n",
        "model = VariationalAutoencoder()\n",
        "\n",
        "#pytorch_model_summary 라이브러리를 통해 변이형 오토인코더의 구조를 확인.\n",
        "# 입력 벡터는 (1, 784)의 크기를 가진 영벡터로 설정했고, 연산결과에 따른\n",
        "# 모델구조를 출력\n",
        "print(pytorch_model_summary.summary(model, torch_zeros(1, 784).cuda(),\n",
        "                                    show_input=True))"
      ],
      "metadata": {
        "id": "KC-Bi2D_peoR"
      },
      "execution_count": null,
      "outputs": []
    },
    {
      "cell_type": "code",
      "source": [
        "BCE = nn.BCELoss()\n",
        "num_epochs, learning_rate = 50, 1e-3\n",
        "optimizer = torch.optim.Adam(model.parameters(), lr=learning_rate)\n",
        "\n",
        "for epoch in range(num_epochs):\n",
        "  for data in dataloader:\n",
        "    img, _ = data"
      ],
      "metadata": {
        "id": "vihiMBBMqTiK"
      },
      "execution_count": null,
      "outputs": []
    }
  ]
}