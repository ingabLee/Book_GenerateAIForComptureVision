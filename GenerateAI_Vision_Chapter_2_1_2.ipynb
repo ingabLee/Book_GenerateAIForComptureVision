{
  "nbformat": 4,
  "nbformat_minor": 0,
  "metadata": {
    "colab": {
      "provenance": [],
      "gpuType": "T4",
      "authorship_tag": "ABX9TyNR/4fzPtgWzKAMMutddbfj",
      "include_colab_link": true
    },
    "kernelspec": {
      "name": "python3",
      "display_name": "Python 3"
    },
    "language_info": {
      "name": "python"
    },
    "accelerator": "GPU"
  },
  "cells": [
    {
      "cell_type": "markdown",
      "metadata": {
        "id": "view-in-github",
        "colab_type": "text"
      },
      "source": [
        "<a href=\"https://colab.research.google.com/github/ingabLee/Book_GenerateAIForComptureVision/blob/main/GenerateAI_Vision_Chapter_2_1_2.ipynb\" target=\"_parent\"><img src=\"https://colab.research.google.com/assets/colab-badge.svg\" alt=\"Open In Colab\"/></a>"
      ]
    },
    {
      "cell_type": "code",
      "execution_count": 1,
      "metadata": {
        "colab": {
          "base_uri": "https://localhost:8080/"
        },
        "id": "nTnoGvNuN6WA",
        "outputId": "1b2f5a7c-aafa-463a-fe0f-817356f9e802"
      },
      "outputs": [
        {
          "output_type": "stream",
          "name": "stdout",
          "text": [
            "Requirement already satisfied: torch in /usr/local/lib/python3.12/dist-packages (2.8.0+cu126)\n",
            "Requirement already satisfied: filelock in /usr/local/lib/python3.12/dist-packages (from torch) (3.19.1)\n",
            "Requirement already satisfied: typing-extensions>=4.10.0 in /usr/local/lib/python3.12/dist-packages (from torch) (4.15.0)\n",
            "Requirement already satisfied: setuptools in /usr/local/lib/python3.12/dist-packages (from torch) (75.2.0)\n",
            "Requirement already satisfied: sympy>=1.13.3 in /usr/local/lib/python3.12/dist-packages (from torch) (1.13.3)\n",
            "Requirement already satisfied: networkx in /usr/local/lib/python3.12/dist-packages (from torch) (3.5)\n",
            "Requirement already satisfied: jinja2 in /usr/local/lib/python3.12/dist-packages (from torch) (3.1.6)\n",
            "Requirement already satisfied: fsspec in /usr/local/lib/python3.12/dist-packages (from torch) (2025.3.0)\n",
            "Requirement already satisfied: nvidia-cuda-nvrtc-cu12==12.6.77 in /usr/local/lib/python3.12/dist-packages (from torch) (12.6.77)\n",
            "Requirement already satisfied: nvidia-cuda-runtime-cu12==12.6.77 in /usr/local/lib/python3.12/dist-packages (from torch) (12.6.77)\n",
            "Requirement already satisfied: nvidia-cuda-cupti-cu12==12.6.80 in /usr/local/lib/python3.12/dist-packages (from torch) (12.6.80)\n",
            "Requirement already satisfied: nvidia-cudnn-cu12==9.10.2.21 in /usr/local/lib/python3.12/dist-packages (from torch) (9.10.2.21)\n",
            "Requirement already satisfied: nvidia-cublas-cu12==12.6.4.1 in /usr/local/lib/python3.12/dist-packages (from torch) (12.6.4.1)\n",
            "Requirement already satisfied: nvidia-cufft-cu12==11.3.0.4 in /usr/local/lib/python3.12/dist-packages (from torch) (11.3.0.4)\n",
            "Requirement already satisfied: nvidia-curand-cu12==10.3.7.77 in /usr/local/lib/python3.12/dist-packages (from torch) (10.3.7.77)\n",
            "Requirement already satisfied: nvidia-cusolver-cu12==11.7.1.2 in /usr/local/lib/python3.12/dist-packages (from torch) (11.7.1.2)\n",
            "Requirement already satisfied: nvidia-cusparse-cu12==12.5.4.2 in /usr/local/lib/python3.12/dist-packages (from torch) (12.5.4.2)\n",
            "Requirement already satisfied: nvidia-cusparselt-cu12==0.7.1 in /usr/local/lib/python3.12/dist-packages (from torch) (0.7.1)\n",
            "Requirement already satisfied: nvidia-nccl-cu12==2.27.3 in /usr/local/lib/python3.12/dist-packages (from torch) (2.27.3)\n",
            "Requirement already satisfied: nvidia-nvtx-cu12==12.6.77 in /usr/local/lib/python3.12/dist-packages (from torch) (12.6.77)\n",
            "Requirement already satisfied: nvidia-nvjitlink-cu12==12.6.85 in /usr/local/lib/python3.12/dist-packages (from torch) (12.6.85)\n",
            "Requirement already satisfied: nvidia-cufile-cu12==1.11.1.6 in /usr/local/lib/python3.12/dist-packages (from torch) (1.11.1.6)\n",
            "Requirement already satisfied: triton==3.4.0 in /usr/local/lib/python3.12/dist-packages (from torch) (3.4.0)\n",
            "Requirement already satisfied: mpmath<1.4,>=1.1.0 in /usr/local/lib/python3.12/dist-packages (from sympy>=1.13.3->torch) (1.3.0)\n",
            "Requirement already satisfied: MarkupSafe>=2.0 in /usr/local/lib/python3.12/dist-packages (from jinja2->torch) (3.0.2)\n"
          ]
        }
      ],
      "source": [
        "!pip install torch"
      ]
    },
    {
      "cell_type": "code",
      "source": [
        "import os\n",
        "import torch\n",
        "from torch import nn\n",
        "from torch.autograd import Variable\n",
        "from torch.utils.data import DataLoader\n",
        "from torchvision import transforms\n",
        "from torchvision.datasets import MNIST\n",
        "from torchvision.utils import save_image\n",
        "from google.colab import drive\n",
        "\n",
        "drive.mount('/content/drive')\n",
        "\n",
        "os.makedirs('/content/drive/MyDrive/VisionForGenerateAI/AE_img', exist_ok=True)\n"
      ],
      "metadata": {
        "colab": {
          "base_uri": "https://localhost:8080/"
        },
        "id": "ZD3-fU5qOVvu",
        "outputId": "9c13cf3d-e06b-4414-f950-32915293d643"
      },
      "execution_count": 2,
      "outputs": [
        {
          "output_type": "stream",
          "name": "stdout",
          "text": [
            "Mounted at /content/drive\n"
          ]
        }
      ]
    },
    {
      "cell_type": "code",
      "source": [
        "# tensor data normalization. (find min, max value)\n",
        "def normalization(tensor, min_value, max_value):\n",
        "  min_tensor = tensor.min()\n",
        "  tensor = (tensor - min_tensor)\n",
        "  max_tensor = tensor.max()\n",
        "  tensor = tensor / max_tensor\n",
        "  tensor = tensor * (max_value - min_value) + min_value\n",
        "  return tensor\n",
        "\n",
        "# tensor value round\n",
        "def value_round(tensor):\n",
        "  return torch.round(tensor)\n",
        "\n",
        "# 생성한 tensor을 이미지로 출력하기 위한 차원변환을 수행하는 함수.\n",
        "def to_img(x):\n",
        "  x = x.view(x.size(0), 1, 28, 28)\n",
        "  return x\n",
        "\n",
        "# MINST 데이터를 학습에 사용하기위해서 전처리를 수행하는 transform함수를 선언\n",
        "img_transform = transforms.Compose([\n",
        "    transforms.ToTensor(),\n",
        "    transforms.Lambda(lambda tensor:normalization(tensor, 0, 1)),\n",
        "    transforms.Lambda(lambda tensor:value_round(tensor))\n",
        "])\n",
        "\n",
        "batch_size = 128    # 배치 사이즈 128\n",
        "\n",
        "# load MNIST dataset with transform(전처리)\n",
        "dataset = MNIST('./MNIST_dataset', transform=img_transform, download=True)\n",
        "\n",
        "# 배치사이즈에 맞게 dataloader를 설정하여 shuffle옵션을 통해 섞는다.\n",
        "dataloader = DataLoader(dataset, batch_size=batch_size, shuffle=True)"
      ],
      "metadata": {
        "id": "MbPxRU1gO-bF",
        "colab": {
          "base_uri": "https://localhost:8080/"
        },
        "outputId": "a896fafd-0318-4bdf-de5d-90895a34d14d"
      },
      "execution_count": 3,
      "outputs": [
        {
          "output_type": "stream",
          "name": "stderr",
          "text": [
            "100%|██████████| 9.91M/9.91M [00:00<00:00, 12.9MB/s]\n",
            "100%|██████████| 28.9k/28.9k [00:00<00:00, 346kB/s]\n",
            "100%|██████████| 1.65M/1.65M [00:00<00:00, 3.21MB/s]\n",
            "100%|██████████| 4.54k/4.54k [00:00<00:00, 10.9MB/s]\n"
          ]
        }
      ]
    },
    {
      "cell_type": "code",
      "source": [
        "# 인코더와 디코더로 구성된 AutoEncoder를 선언.\n",
        "class autoencoder(nn.Module):\n",
        "  def __init__(self):\n",
        "    super(autoencoder, self).__init__()\n",
        "\n",
        "    # create encoder. 각각 두개의 선형 레이어와 활성화 함수로 구성.\n",
        "    # 입력 크기는 [N, 28X28]로 설정. N는 배치 사이즈이다.\n",
        "    self.encoder = nn.Sequential(\n",
        "        nn.Linear(28 * 28, 256),\n",
        "        nn.ReLU(True),\n",
        "        nn.Linear(256, 64),\n",
        "        nn.ReLU(True))\n",
        "\n",
        "    # create decoder.   입출력 데이터 크기는 인코더와 반대되며\n",
        "    # 마찬가지로  각각 두개의 선형 레이어와 활성화 함수로 구성\n",
        "    self.decoder = nn.Sequential(\n",
        "        nn.Linear(64, 256),\n",
        "        nn.ReLU(True),\n",
        "        nn.Linear(256, 28*28),\n",
        "        nn.Sigmoid())\n",
        "\n",
        "  # AutoEncoder의 동작순서를 정의.  입력데이터가 인코더와 디코더를 순차적으로 통과하여\n",
        "  # 출력데이터로  계산.\n",
        "  def forward(self, x):\n",
        "    x = self.encoder(x)\n",
        "    x = self.decoder(x)\n",
        "    return x\n",
        "\n",
        "\n",
        "import torchsummary\n",
        "\n",
        "#  autoencoder를 생성하고 GPU에 로드\n",
        "model = autoencoder().cuda()\n",
        "\n",
        "# torchsummary 통해 모델 구정 확인\n",
        "torchsummary.summary(model, (96, 784))"
      ],
      "metadata": {
        "colab": {
          "base_uri": "https://localhost:8080/"
        },
        "id": "db_pUONehhHZ",
        "outputId": "8d36cb47-aaf4-448a-dd6c-2b80c0c828b1"
      },
      "execution_count": 5,
      "outputs": [
        {
          "output_type": "stream",
          "name": "stdout",
          "text": [
            "----------------------------------------------------------------\n",
            "        Layer (type)               Output Shape         Param #\n",
            "================================================================\n",
            "            Linear-1              [-1, 96, 256]         200,960\n",
            "              ReLU-2              [-1, 96, 256]               0\n",
            "            Linear-3               [-1, 96, 64]          16,448\n",
            "              ReLU-4               [-1, 96, 64]               0\n",
            "            Linear-5              [-1, 96, 256]          16,640\n",
            "              ReLU-6              [-1, 96, 256]               0\n",
            "            Linear-7              [-1, 96, 784]         201,488\n",
            "           Sigmoid-8              [-1, 96, 784]               0\n",
            "================================================================\n",
            "Total params: 435,536\n",
            "Trainable params: 435,536\n",
            "Non-trainable params: 0\n",
            "----------------------------------------------------------------\n",
            "Input size (MB): 0.29\n",
            "Forward/backward pass size (MB): 1.99\n",
            "Params size (MB): 1.66\n",
            "Estimated Total Size (MB): 3.94\n",
            "----------------------------------------------------------------\n"
          ]
        }
      ]
    },
    {
      "cell_type": "code",
      "source": [
        "test = nn.Linear(28*28, 256)\n",
        "print(test)"
      ],
      "metadata": {
        "colab": {
          "base_uri": "https://localhost:8080/"
        },
        "id": "ixB21us8kyLx",
        "outputId": "b8a5939d-b20c-41e5-ef0f-dab2b19d62e3"
      },
      "execution_count": 8,
      "outputs": [
        {
          "output_type": "stream",
          "name": "stdout",
          "text": [
            "Linear(in_features=784, out_features=256, bias=True)\n"
          ]
        }
      ]
    },
    {
      "cell_type": "code",
      "source": [],
      "metadata": {
        "id": "WIaTpS45nGze"
      },
      "execution_count": null,
      "outputs": []
    }
  ]
}